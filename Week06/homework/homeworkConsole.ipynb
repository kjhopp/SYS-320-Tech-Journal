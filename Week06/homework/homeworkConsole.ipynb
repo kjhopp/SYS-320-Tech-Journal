{
 "cells": [
  {
   "cell_type": "markdown",
   "metadata": {},
   "source": [
    "# Task 1"
   ]
  },
  {
   "cell_type": "markdown",
   "metadata": {},
   "source": [
    "### What Python module **contains** the function to see if a file exists?\n",
    "\n",
    "The pathlib module\n",
    "\n",
    "### What is the function **within the module** that checks to see if the file exists?\n",
    "\n",
    "The exists() function\n",
    "\n",
    "### What Python module **contains** the function to remove a file?\n",
    "\n",
    "The shutil module\n",
    "\n",
    "### What is the function **within the module** that removes the file?\n",
    "\n",
    "The os.remove() function\n",
    "\n",
    "### What standard Python function is used to take **input** from a user prompt?\n",
    "\n",
    "The input() function\n",
    "\n"
   ]
  },
  {
   "cell_type": "markdown",
   "metadata": {},
   "source": [
    "# Task 2"
   ]
  },
  {
   "cell_type": "code",
   "execution_count": null,
   "metadata": {},
   "outputs": [],
   "source": [
    "blindFiles = ['cat /etc/resolv.conf',\n",
    "'cat /etc/issue',\n",
    "'cat /etc/passwd',\n",
    "'cat /etc/shadow']\n",
    "\n",
    "systemCommands = ['uname -a',\n",
    "'ps aux',\n",
    "'id',\n",
    "'arch',\n",
    "'w']\n",
    "\n",
    "networkCommands = ['hostname -f',\n",
    "'ip addr show',\n",
    "'ip ro show',\n",
    "'route -n',\n",
    "'iptables -L -n -v']\n",
    "\n",
    "userAccounts = ['cat /etc/passwd',\n",
    "'cat /etc/shadow',\n",
    "'cat /etc/group',\n",
    "'getent passwd',\n",
    "'getent group']\n",
    "\n",
    "userInformation = ['ls -alh /home/*/.ssh/',\n",
    "'cat /home/*/.ssh/authorized_keys',\n",
    "'cat /home/*/.ssh/known_hosts',\n",
    "'sudo -l',\n",
    "'crontab -l']\n",
    "\n",
    "credentials = ['cat /home/*/.ssh/id*',\n",
    "'cat /tmp/krb5cc_*',\n",
    "'cat /tmp/krb5.keytab',\n",
    "'cat /home/*/.gnupg/secring.gpgs']\n",
    "\n",
    "configurations = [\"ls -aRl /etc/ * awk '$1 ~ /w.$/' * grep -v lrwx 2>/dev/nullte\",\n",
    "'cat /etc/issue{,.net}',\n",
    "'cat /etc/group',\n",
    "'cat /etc/hosts',\n",
    "'cat /etc/crontab']\n",
    "\n",
    "distro = ['uname -a',\n",
    "'lsb_release -d',\n",
    "'cat /etc/os-release',\n",
    "'cat /etc/issue',\n",
    "'cat /etc/*release']\n",
    "\n",
    "installedPackages = ['dpkg -l',\n",
    "'dpkg -l | grep -i “linux-image”',\n",
    "'dpkg --get-selections']\n",
    "\n",
    "packageSource = ['cat /etc/apt/sources.list']\n",
    "\n",
    "importantFiles = ['ls -alR | grep ^d',\n",
    "'find /var -type d',\n",
    "'ls -dl `find /var -type d`',\n",
    "'ls -dl `find /var -type d` | grep -v root',\n",
    "'find /var ! -user root -type d -ls']"
   ]
  },
  {
   "cell_type": "markdown",
   "metadata": {},
   "source": [
    "# Task 3"
   ]
  },
  {
   "cell_type": "code",
   "execution_count": null,
   "metadata": {},
   "outputs": [],
   "source": [
    "import paramiko\n",
    "from getpass import getpass\n",
    "import os, os.path\n",
    "\n"
   ]
  },
  {
   "cell_type": "code",
   "execution_count": null,
   "metadata": {},
   "outputs": [],
   "source": [
    "sftp = ssh.open_sftp()\n",
    "\n",
    "localFile = \"homework.py\"\n",
    "remotePath = \"/home/katie/homework.py\""
   ]
  }
 ],
 "metadata": {
  "kernelspec": {
   "display_name": "Python 3.10.7 64-bit",
   "language": "python",
   "name": "python3"
  },
  "language_info": {
   "name": "python",
   "version": "3.10.7"
  },
  "orig_nbformat": 4,
  "vscode": {
   "interpreter": {
    "hash": "fe738ec18bb235c139f9caa4879dc5aa6b400625c1b1384b89ff9df8c840ee3e"
   }
  }
 },
 "nbformat": 4,
 "nbformat_minor": 2
}

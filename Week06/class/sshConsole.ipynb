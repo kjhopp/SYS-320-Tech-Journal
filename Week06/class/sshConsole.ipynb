{
 "cells": [
  {
   "cell_type": "code",
   "execution_count": null,
   "metadata": {},
   "outputs": [],
   "source": [
    "import paramiko\n",
    "from getpass import getpass\n",
    "\n",
    "# Create the password prompt\n",
    "thePass = getpass(prompt=\"Please enter your SSH password: \")\n",
    "\n",
    "# Host information\n",
    "host = \"127.0.0.1\"\n",
    "port = 22\n",
    "username = \"administrator\"\n",
    "password = thePass\n",
    "\n",
    "try: \n",
    "    \n",
    "    ssh = paramiko.SSHClient()\n",
    "    ssh.set_missing_host_key_policy(paramiko.AutoAddPolicy())\n",
    "    ssh.connect(host, port, username, password)\n",
    "    \n",
    "except paramiko.AuthenticationException:\n",
    "    print(\"Authentication failed.\")"
   ]
  },
  {
   "cell_type": "code",
   "execution_count": null,
   "metadata": {},
   "outputs": [],
   "source": [
    "# Run a command\n",
    "# command = \"ps -ef ; netstat -an ; Last -adx\"\n",
    "\n",
    "#Run a list of commands\n",
    "command = ['ps -ef', 'netstat -an --inet','last -adx', 'cut -d: -f1 /etc/passwd']\n",
    "\n",
    "for eachCMD in command:\n",
    "    # Get the output frm the command\n",
    "    stdin, stdout, stderr = ssh.exec_command(eachCMD)\n",
    "\n",
    "    # Get results from stdout\n",
    "    lines = stdout.readlines()\n",
    "    #print(lines)\n",
    "\n",
    "    # Convert the list to a string\n",
    "    output = ''.join(lines)\n",
    "    #print(output)\n",
    "    \n",
    "    # Header Output\n",
    "    sepHeader = '' + '### BEGIN' + eachCMD + '###\\n\\n'\n",
    "    \n",
    "    # Footer Output\n",
    "    sepFooter = '' + '### END' + eachCMD + '###\\n\\n'\n",
    "    \n",
    "    # Concatenate the header, output, and footer\n",
    "    cmd_output = sepHeader + output +sepFooter\n",
    "    # print(cmd_output)\n",
    "\n",
    "    # Save command output to a file\n",
    "    with open ('ssh_results.txt', 'a') as f:\n",
    "        f.write(cmd_output)\n",
    "\n",
    "ssh.close()"
   ]
  }
 ],
 "metadata": {
  "kernelspec": {
   "display_name": "Python 3.10.7 64-bit",
   "language": "python",
   "name": "python3"
  },
  "language_info": {
   "codemirror_mode": {
    "name": "ipython",
    "version": 3
   },
   "file_extension": ".py",
   "mimetype": "text/x-python",
   "name": "python",
   "nbconvert_exporter": "python",
   "pygments_lexer": "ipython3",
   "version": "3.10.7"
  },
  "orig_nbformat": 4,
  "vscode": {
   "interpreter": {
    "hash": "fe738ec18bb235c139f9caa4879dc5aa6b400625c1b1384b89ff9df8c840ee3e"
   }
  }
 },
 "nbformat": 4,
 "nbformat_minor": 2
}

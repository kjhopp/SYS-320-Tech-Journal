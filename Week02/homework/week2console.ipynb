{
 "cells": [
  {
   "cell_type": "code",
   "execution_count": 54,
   "metadata": {},
   "outputs": [
    {
     "data": {
      "text/plain": [
       "<module 'apacheParsing' from 'c:\\\\SYS-320-Tech-Journal-1\\\\Week02\\\\homework\\\\apacheParsing.py'>"
      ]
     },
     "execution_count": 54,
     "metadata": {},
     "output_type": "execute_result"
    }
   ],
   "source": [
    "import apacheParsing\n",
    "import importlib\n",
    "importlib.reload(apacheParsing)"
   ]
  },
  {
   "cell_type": "markdown",
   "metadata": {},
   "source": [
    "### QQ Threats"
   ]
  },
  {
   "cell_type": "code",
   "execution_count": 46,
   "metadata": {},
   "outputs": [
    {
     "name": "stdout",
     "output_type": "stream",
     "text": [
      "600 bytes sent 1716 bytes received \n",
      "1644 bytes sent KB) bytes received \n",
      "261 bytes sent 70 bytes received \n",
      "133 bytes sent 0 bytes received \n",
      "149 bytes sent 121 bytes received \n",
      "466 bytes sent 125682 bytes received \n",
      "336 bytes sent 2854 bytes received \n",
      "0 bytes sent 0 bytes received \n",
      "477 bytes sent 448 bytes received \n"
     ]
    }
   ],
   "source": [
    "apacheParsing.logParse(\"../../logs/Proxifier_2k.log\", \"proxifier\", \"qqbytes\")"
   ]
  },
  {
   "cell_type": "markdown",
   "metadata": {},
   "source": [
    "### QQ Connections Opened"
   ]
  },
  {
   "cell_type": "code",
   "execution_count": 55,
   "metadata": {},
   "outputs": [
    {
     "name": "stdout",
     "output_type": "stream",
     "text": [
      "tcpconn6.tencent.com:80 open through proxy proxy.cse.cuhk.edu.hk:5070\n",
      "tcpconn.tencent.com:80 open through proxy proxy.cse.cuhk.edu.hk:5070\n",
      "tcpconn3.tencent.com:443 open through proxy proxy.cse.cuhk.edu.hk:5070\n",
      "cgi.qqweb.qq.com:80 open through proxy proxy.cse.cuhk.edu.hk:5070\n",
      "tcpconn6.tencent.com:443 open through proxy proxy.cse.cuhk.edu.hk:5070\n",
      "183.60.49.182:443 open through proxy proxy.cse.cuhk.edu.hk:5070\n"
     ]
    }
   ],
   "source": [
    "apacheParsing.logParse(\"../../logs/Proxifier_2k.log\", \"proxifier\", \"qqopen\")"
   ]
  }
 ],
 "metadata": {
  "kernelspec": {
   "display_name": "Python 3.10.7 64-bit",
   "language": "python",
   "name": "python3"
  },
  "language_info": {
   "codemirror_mode": {
    "name": "ipython",
    "version": 3
   },
   "file_extension": ".py",
   "mimetype": "text/x-python",
   "name": "python",
   "nbconvert_exporter": "python",
   "pygments_lexer": "ipython3",
   "version": "3.10.7"
  },
  "orig_nbformat": 4,
  "vscode": {
   "interpreter": {
    "hash": "fe738ec18bb235c139f9caa4879dc5aa6b400625c1b1384b89ff9df8c840ee3e"
   }
  }
 },
 "nbformat": 4,
 "nbformat_minor": 2
}

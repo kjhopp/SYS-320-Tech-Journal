{
 "cells": [
  {
   "cell_type": "markdown",
   "metadata": {},
   "source": [
    "# URLHAUS"
   ]
  },
  {
   "cell_type": "code",
   "execution_count": 57,
   "metadata": {},
   "outputs": [
    {
     "data": {
      "text/plain": [
       "<module 'urlHaus' from 'c:\\\\SYS-320-Tech-Journal-1\\\\Week03\\\\urlHaus.py'>"
      ]
     },
     "execution_count": 57,
     "metadata": {},
     "output_type": "execute_result"
    }
   ],
   "source": [
    "import urlHaus as u\n",
    "import importlib\n",
    "importlib.reload(u)\n"
   ]
  },
  {
   "cell_type": "markdown",
   "metadata": {},
   "source": [
    "## Domains that Contain .edu and .gov"
   ]
  },
  {
   "cell_type": "code",
   "execution_count": 58,
   "metadata": {},
   "outputs": [
    {
     "name": "stdout",
     "output_type": "stream",
     "text": [
      "\n",
      "                    URL: hxxp://emtibuesp.gov.co/-/Q64DnjXKVg/\n",
      "                    Info: https://urlhaus.abuse.ch/url/1911788/ \n",
      "                    ~~~~~~~~~~~~~~~~~~~~~~~~~~~~~~~~~~~~~~~~~~~~~~~~~~~~~~~~~~~~ \n",
      "\n",
      "                    URL: hxxp://nms.gov.bz/voluptatibusodio/sedet-9689395\n",
      "                    Info: https://urlhaus.abuse.ch/url/1870776/ \n",
      "                    ~~~~~~~~~~~~~~~~~~~~~~~~~~~~~~~~~~~~~~~~~~~~~~~~~~~~~~~~~~~~ \n",
      "\n",
      "                    URL: hxxp://krusevo.gov.mk/update/ekologija/UbgpSdWbccCcY6MM/\n",
      "                    Info: https://urlhaus.abuse.ch/url/1868933/ \n",
      "                    ~~~~~~~~~~~~~~~~~~~~~~~~~~~~~~~~~~~~~~~~~~~~~~~~~~~~~~~~~~~~ \n",
      "\n",
      "                    URL: hxxp://hydromet.gov.bz/facerefacilis/essereiciendis-10302844\n",
      "                    Info: https://urlhaus.abuse.ch/url/1863793/ \n",
      "                    ~~~~~~~~~~~~~~~~~~~~~~~~~~~~~~~~~~~~~~~~~~~~~~~~~~~~~~~~~~~~ \n",
      "\n",
      "                    URL: hxxp://hydromet.gov.bz/facerefacilis/assumendarecusandae-9843301\n",
      "                    Info: https://urlhaus.abuse.ch/url/1863781/ \n",
      "                    ~~~~~~~~~~~~~~~~~~~~~~~~~~~~~~~~~~~~~~~~~~~~~~~~~~~~~~~~~~~~ \n",
      "\n",
      "                    URL: hxxp://hydromet.gov.bz/facerefacilis/nemoquam-10677303\n",
      "                    Info: https://urlhaus.abuse.ch/url/1863694/ \n",
      "                    ~~~~~~~~~~~~~~~~~~~~~~~~~~~~~~~~~~~~~~~~~~~~~~~~~~~~~~~~~~~~ \n",
      "\n",
      "                    URL: hxxp://hydromet.gov.bz/facerefacilis/liberonihil-9856553\n",
      "                    Info: https://urlhaus.abuse.ch/url/1863695/ \n",
      "                    ~~~~~~~~~~~~~~~~~~~~~~~~~~~~~~~~~~~~~~~~~~~~~~~~~~~~~~~~~~~~ \n",
      "\n",
      "                    URL: hxxp://hydromet.gov.bz/facerefacilis/etnon-9856552\n",
      "                    Info: https://urlhaus.abuse.ch/url/1863696/ \n",
      "                    ~~~~~~~~~~~~~~~~~~~~~~~~~~~~~~~~~~~~~~~~~~~~~~~~~~~~~~~~~~~~ \n",
      "\n",
      "                    URL: hxxp://hydromet.gov.bz/facerefacilis/solutaperspiciatis-10003891\n",
      "                    Info: https://urlhaus.abuse.ch/url/1860067/ \n",
      "                    ~~~~~~~~~~~~~~~~~~~~~~~~~~~~~~~~~~~~~~~~~~~~~~~~~~~~~~~~~~~~ \n",
      "\n",
      "                    URL: hxxp://nms.gov.bz/voluptatibusodio/magnamreiciendis-9824833\n",
      "                    Info: https://urlhaus.abuse.ch/url/1859839/ \n",
      "                    ~~~~~~~~~~~~~~~~~~~~~~~~~~~~~~~~~~~~~~~~~~~~~~~~~~~~~~~~~~~~ \n",
      "\n",
      "                    URL: hxxp://nms.gov.bz/voluptatibusodio/etaliquam-10728951\n",
      "                    Info: https://urlhaus.abuse.ch/url/1859842/ \n",
      "                    ~~~~~~~~~~~~~~~~~~~~~~~~~~~~~~~~~~~~~~~~~~~~~~~~~~~~~~~~~~~~ \n",
      "\n",
      "                    URL: hxxp://hydromet.gov.bz/facerefacilis/numquamearum-10170050\n",
      "                    Info: https://urlhaus.abuse.ch/url/1859670/ \n",
      "                    ~~~~~~~~~~~~~~~~~~~~~~~~~~~~~~~~~~~~~~~~~~~~~~~~~~~~~~~~~~~~ \n",
      "\n",
      "                    URL: hxxps://nms.gov.bz/voluptatibusodio/maioresquia-9780422\n",
      "                    Info: https://urlhaus.abuse.ch/url/1859624/ \n",
      "                    ~~~~~~~~~~~~~~~~~~~~~~~~~~~~~~~~~~~~~~~~~~~~~~~~~~~~~~~~~~~~ \n",
      "\n",
      "                    URL: hxxp://nms.gov.bz/voluptatibusodio/sedquia-10045590\n",
      "                    Info: https://urlhaus.abuse.ch/url/1859617/ \n",
      "                    ~~~~~~~~~~~~~~~~~~~~~~~~~~~~~~~~~~~~~~~~~~~~~~~~~~~~~~~~~~~~ \n",
      "\n",
      "                    URL: hxxp://hydromet.gov.bz/facerefacilis/nequevelit-10667482\n",
      "                    Info: https://urlhaus.abuse.ch/url/1859595/ \n",
      "                    ~~~~~~~~~~~~~~~~~~~~~~~~~~~~~~~~~~~~~~~~~~~~~~~~~~~~~~~~~~~~ \n",
      "\n",
      "                    URL: hxxp://www.hydromet.gov.bz/facerefacilis/temporeet-9690886\n",
      "                    Info: https://urlhaus.abuse.ch/url/1859553/ \n",
      "                    ~~~~~~~~~~~~~~~~~~~~~~~~~~~~~~~~~~~~~~~~~~~~~~~~~~~~~~~~~~~~ \n",
      "\n",
      "                    URL: hxxp://nms.gov.bz/voluptatibusodio/maioresquia-9780422\n",
      "                    Info: https://urlhaus.abuse.ch/url/1859540/ \n",
      "                    ~~~~~~~~~~~~~~~~~~~~~~~~~~~~~~~~~~~~~~~~~~~~~~~~~~~~~~~~~~~~ \n",
      "\n",
      "                    URL: hxxp://hydromet.gov.bz/facerefacilis/corporisnesciunt-9819376\n",
      "                    Info: https://urlhaus.abuse.ch/url/1859546/ \n",
      "                    ~~~~~~~~~~~~~~~~~~~~~~~~~~~~~~~~~~~~~~~~~~~~~~~~~~~~~~~~~~~~ \n",
      "\n",
      "                    URL: hxxp://nms.gov.bz/voluptatibusodio/voluptatemexpedita-9848407\n",
      "                    Info: https://urlhaus.abuse.ch/url/1859076/ \n",
      "                    ~~~~~~~~~~~~~~~~~~~~~~~~~~~~~~~~~~~~~~~~~~~~~~~~~~~~~~~~~~~~ \n",
      "\n",
      "                    URL: hxxp://nms.gov.bz/voluptatibusodio/nostrumdebitis-9841313\n",
      "                    Info: https://urlhaus.abuse.ch/url/1859036/ \n",
      "                    ~~~~~~~~~~~~~~~~~~~~~~~~~~~~~~~~~~~~~~~~~~~~~~~~~~~~~~~~~~~~ \n",
      "\n",
      "                    URL: hxxp://nms.gov.bz/voluptatibusodio/molestiaelaudantium-9753897\n",
      "                    Info: https://urlhaus.abuse.ch/url/1859037/ \n",
      "                    ~~~~~~~~~~~~~~~~~~~~~~~~~~~~~~~~~~~~~~~~~~~~~~~~~~~~~~~~~~~~ \n",
      "\n",
      "                    URL: hxxp://nms.gov.bz/voluptatibusodio/officiarerum-9751183\n",
      "                    Info: https://urlhaus.abuse.ch/url/1859038/ \n",
      "                    ~~~~~~~~~~~~~~~~~~~~~~~~~~~~~~~~~~~~~~~~~~~~~~~~~~~~~~~~~~~~ \n",
      "\n",
      "                    URL: hxxp://nms.gov.bz/voluptatibusodio/corporisautem-9726742\n",
      "                    Info: https://urlhaus.abuse.ch/url/1859042/ \n",
      "                    ~~~~~~~~~~~~~~~~~~~~~~~~~~~~~~~~~~~~~~~~~~~~~~~~~~~~~~~~~~~~ \n",
      "\n",
      "                    URL: hxxp://nms.gov.bz/voluptatibusodio/facereducimus-9613533\n",
      "                    Info: https://urlhaus.abuse.ch/url/1859035/ \n",
      "                    ~~~~~~~~~~~~~~~~~~~~~~~~~~~~~~~~~~~~~~~~~~~~~~~~~~~~~~~~~~~~ \n",
      "\n",
      "                    URL: hxxp://dih.gov.al/components/jmx.exe\n",
      "                    Info: https://urlhaus.abuse.ch/url/1819571/ \n",
      "                    ~~~~~~~~~~~~~~~~~~~~~~~~~~~~~~~~~~~~~~~~~~~~~~~~~~~~~~~~~~~~ \n",
      "\n",
      "                    URL: hxxps://edu.pmvanini.rs.gov.br/tranquilly.php\n",
      "                    Info: https://urlhaus.abuse.ch/url/1503414/ \n",
      "                    ~~~~~~~~~~~~~~~~~~~~~~~~~~~~~~~~~~~~~~~~~~~~~~~~~~~~~~~~~~~~ \n"
     ]
    }
   ],
   "source": [
    "u.urlHausOpen('/../SYS-320-Tech-Journal-1/logs/urlHaus.csv', ['\\\\.edu','\\\\.gov'])"
   ]
  },
  {
   "cell_type": "markdown",
   "metadata": {},
   "source": [
    "## Search for URLs that contain .win32"
   ]
  },
  {
   "cell_type": "code",
   "execution_count": 59,
   "metadata": {},
   "outputs": [
    {
     "name": "stdout",
     "output_type": "stream",
     "text": [
      "\n",
      "                    URL: hxxp://103.171.0.134/Registry/.win32.exe\n",
      "                    Info: https://urlhaus.abuse.ch/url/2017874/ \n",
      "                    ~~~~~~~~~~~~~~~~~~~~~~~~~~~~~~~~~~~~~~~~~~~~~~~~~~~~~~~~~~~~ \n",
      "\n",
      "                    URL: hxxp://198.46.132.195/Registry/.win32.exe\n",
      "                    Info: https://urlhaus.abuse.ch/url/2017585/ \n",
      "                    ~~~~~~~~~~~~~~~~~~~~~~~~~~~~~~~~~~~~~~~~~~~~~~~~~~~~~~~~~~~~ \n",
      "\n",
      "                    URL: hxxp://103.89.90.10/Registry/.win32.exe\n",
      "                    Info: https://urlhaus.abuse.ch/url/2017583/ \n",
      "                    ~~~~~~~~~~~~~~~~~~~~~~~~~~~~~~~~~~~~~~~~~~~~~~~~~~~~~~~~~~~~ \n",
      "\n",
      "                    URL: hxxp://103.171.0.134/googleCRC/.win32.exe\n",
      "                    Info: https://urlhaus.abuse.ch/url/2011286/ \n",
      "                    ~~~~~~~~~~~~~~~~~~~~~~~~~~~~~~~~~~~~~~~~~~~~~~~~~~~~~~~~~~~~ \n",
      "\n",
      "                    URL: hxxp://198.46.132.195/googleCRC/.win32.exe\n",
      "                    Info: https://urlhaus.abuse.ch/url/2011284/ \n",
      "                    ~~~~~~~~~~~~~~~~~~~~~~~~~~~~~~~~~~~~~~~~~~~~~~~~~~~~~~~~~~~~ \n",
      "\n",
      "                    URL: hxxp://103.171.0.134/glcouldB2/.win32.exe\n",
      "                    Info: https://urlhaus.abuse.ch/url/2009261/ \n",
      "                    ~~~~~~~~~~~~~~~~~~~~~~~~~~~~~~~~~~~~~~~~~~~~~~~~~~~~~~~~~~~~ \n",
      "\n",
      "                    URL: hxxp://103.171.0.134/couldA9/.win32.exe\n",
      "                    Info: https://urlhaus.abuse.ch/url/2007490/ \n",
      "                    ~~~~~~~~~~~~~~~~~~~~~~~~~~~~~~~~~~~~~~~~~~~~~~~~~~~~~~~~~~~~ \n",
      "\n",
      "                    URL: hxxp://103.89.90.10/couldA9/.win32.exe\n",
      "                    Info: https://urlhaus.abuse.ch/url/2007419/ \n",
      "                    ~~~~~~~~~~~~~~~~~~~~~~~~~~~~~~~~~~~~~~~~~~~~~~~~~~~~~~~~~~~~ \n",
      "\n",
      "                    URL: hxxp://103.114.105.38/gcould/.win32.exe\n",
      "                    Info: https://urlhaus.abuse.ch/url/2004773/ \n",
      "                    ~~~~~~~~~~~~~~~~~~~~~~~~~~~~~~~~~~~~~~~~~~~~~~~~~~~~~~~~~~~~ \n",
      "\n",
      "                    URL: hxxp://103.89.90.10/winos11pro/.win32.exe\n",
      "                    Info: https://urlhaus.abuse.ch/url/2002897/ \n",
      "                    ~~~~~~~~~~~~~~~~~~~~~~~~~~~~~~~~~~~~~~~~~~~~~~~~~~~~~~~~~~~~ \n",
      "\n",
      "                    URL: hxxp://103.89.90.10/googlecould/.win32.exe\n",
      "                    Info: https://urlhaus.abuse.ch/url/2002453/ \n",
      "                    ~~~~~~~~~~~~~~~~~~~~~~~~~~~~~~~~~~~~~~~~~~~~~~~~~~~~~~~~~~~~ \n",
      "\n",
      "                    URL: hxxp://103.114.105.38/googlecould/.win32.exe\n",
      "                    Info: https://urlhaus.abuse.ch/url/2001958/ \n",
      "                    ~~~~~~~~~~~~~~~~~~~~~~~~~~~~~~~~~~~~~~~~~~~~~~~~~~~~~~~~~~~~ \n",
      "\n",
      "                    URL: hxxp://103.114.105.38/intel087(R)/.win32.exe\n",
      "                    Info: https://urlhaus.abuse.ch/url/1995422/ \n",
      "                    ~~~~~~~~~~~~~~~~~~~~~~~~~~~~~~~~~~~~~~~~~~~~~~~~~~~~~~~~~~~~ \n",
      "\n",
      "                    URL: hxxp://103.114.105.38/intel(R)/.win32.exe\n",
      "                    Info: https://urlhaus.abuse.ch/url/1991792/ \n",
      "                    ~~~~~~~~~~~~~~~~~~~~~~~~~~~~~~~~~~~~~~~~~~~~~~~~~~~~~~~~~~~~ \n",
      "\n",
      "                    URL: hxxp://103.89.90.10/intel(R)/.win32.exe\n",
      "                    Info: https://urlhaus.abuse.ch/url/1991789/ \n",
      "                    ~~~~~~~~~~~~~~~~~~~~~~~~~~~~~~~~~~~~~~~~~~~~~~~~~~~~~~~~~~~~ \n",
      "\n",
      "                    URL: hxxp://103.114.105.38/intelpro/.win32.exe\n",
      "                    Info: https://urlhaus.abuse.ch/url/1988914/ \n",
      "                    ~~~~~~~~~~~~~~~~~~~~~~~~~~~~~~~~~~~~~~~~~~~~~~~~~~~~~~~~~~~~ \n",
      "\n",
      "                    URL: hxxp://103.89.90.10/oswindows10pro/.win32.exe\n",
      "                    Info: https://urlhaus.abuse.ch/url/1986851/ \n",
      "                    ~~~~~~~~~~~~~~~~~~~~~~~~~~~~~~~~~~~~~~~~~~~~~~~~~~~~~~~~~~~~ \n",
      "\n",
      "                    URL: hxxp://103.114.105.38/oswindows10pro/.win32.exe\n",
      "                    Info: https://urlhaus.abuse.ch/url/1986850/ \n",
      "                    ~~~~~~~~~~~~~~~~~~~~~~~~~~~~~~~~~~~~~~~~~~~~~~~~~~~~~~~~~~~~ \n",
      "\n",
      "                    URL: hxxp://103.114.105.38/winos11pro/.win32.exe\n",
      "                    Info: https://urlhaus.abuse.ch/url/1983100/ \n",
      "                    ~~~~~~~~~~~~~~~~~~~~~~~~~~~~~~~~~~~~~~~~~~~~~~~~~~~~~~~~~~~~ \n",
      "\n",
      "                    URL: hxxp://103.114.105.38/wwindows8/.win32.exe\n",
      "                    Info: https://urlhaus.abuse.ch/url/1974131/ \n",
      "                    ~~~~~~~~~~~~~~~~~~~~~~~~~~~~~~~~~~~~~~~~~~~~~~~~~~~~~~~~~~~~ \n",
      "\n",
      "                    URL: hxxp://103.114.105.38/windows10/.win32.exe\n",
      "                    Info: https://urlhaus.abuse.ch/url/1966580/ \n",
      "                    ~~~~~~~~~~~~~~~~~~~~~~~~~~~~~~~~~~~~~~~~~~~~~~~~~~~~~~~~~~~~ \n",
      "\n",
      "                    URL: hxxp://103.114.105.38/savecloud2091/.win32.exe\n",
      "                    Info: https://urlhaus.abuse.ch/url/1962738/ \n",
      "                    ~~~~~~~~~~~~~~~~~~~~~~~~~~~~~~~~~~~~~~~~~~~~~~~~~~~~~~~~~~~~ \n"
     ]
    }
   ],
   "source": [
    "u.urlHausOpen('/../SYS-320-Tech-Journal-1/logs/urlHaus.csv', ['\\\\.win32.exe'])"
   ]
  }
 ],
 "metadata": {
  "kernelspec": {
   "display_name": "Python 3.10.7 64-bit",
   "language": "python",
   "name": "python3"
  },
  "language_info": {
   "codemirror_mode": {
    "name": "ipython",
    "version": 3
   },
   "file_extension": ".py",
   "mimetype": "text/x-python",
   "name": "python",
   "nbconvert_exporter": "python",
   "pygments_lexer": "ipython3",
   "version": "3.10.7"
  },
  "orig_nbformat": 4,
  "vscode": {
   "interpreter": {
    "hash": "fe738ec18bb235c139f9caa4879dc5aa6b400625c1b1384b89ff9df8c840ee3e"
   }
  }
 },
 "nbformat": 4,
 "nbformat_minor": 2
}
